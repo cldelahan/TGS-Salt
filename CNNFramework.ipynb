{
 "cells": [
  {
   "cell_type": "markdown",
   "metadata": {},
   "source": [
    "# Reading in the data"
   ]
  },
  {
   "cell_type": "code",
   "execution_count": 1,
   "metadata": {},
   "outputs": [],
   "source": [
    "import numpy as np\n",
    "import csv\n",
    "from PIL import Image\n",
    "import matplotlib.pyplot\n",
    "from os import listdir\n",
    "from os.path import isfile, join"
   ]
  },
  {
   "cell_type": "code",
   "execution_count": 2,
   "metadata": {},
   "outputs": [],
   "source": [
    "train_im_dir = \"../../data/train/images/\"\n",
    "train_data_dir = \"../../data/train/train.csv\"\n",
    "w = 101\n",
    "h = 101"
   ]
  },
  {
   "cell_type": "code",
   "execution_count": 16,
   "metadata": {},
   "outputs": [],
   "source": [
    "files = [f for f in listdir(train_im_dir) if isfile(join(train_im_dir, f))]"
   ]
  },
  {
   "cell_type": "code",
   "execution_count": 32,
   "metadata": {
    "scrolled": true
   },
   "outputs": [
    {
     "name": "stdout",
     "output_type": "stream",
     "text": [
      "0 / 4000\n",
      "50 / 4000\n",
      "100 / 4000\n",
      "150 / 4000\n",
      "200 / 4000\n",
      "250 / 4000\n",
      "300 / 4000\n",
      "350 / 4000\n",
      "400 / 4000\n",
      "450 / 4000\n",
      "500 / 4000\n",
      "550 / 4000\n",
      "600 / 4000\n",
      "650 / 4000\n",
      "700 / 4000\n",
      "750 / 4000\n",
      "800 / 4000\n",
      "850 / 4000\n",
      "900 / 4000\n",
      "950 / 4000\n",
      "1000 / 4000\n",
      "1050 / 4000\n",
      "1100 / 4000\n",
      "1150 / 4000\n",
      "1200 / 4000\n",
      "1250 / 4000\n",
      "1300 / 4000\n",
      "1350 / 4000\n",
      "1400 / 4000\n",
      "1450 / 4000\n",
      "1500 / 4000\n",
      "1550 / 4000\n",
      "1600 / 4000\n",
      "1650 / 4000\n",
      "1700 / 4000\n",
      "1750 / 4000\n",
      "1800 / 4000\n",
      "1850 / 4000\n",
      "1900 / 4000\n",
      "1950 / 4000\n",
      "2000 / 4000\n",
      "2050 / 4000\n",
      "2100 / 4000\n",
      "2150 / 4000\n",
      "2200 / 4000\n",
      "2250 / 4000\n",
      "2300 / 4000\n",
      "2350 / 4000\n",
      "2400 / 4000\n",
      "2450 / 4000\n",
      "2500 / 4000\n",
      "2550 / 4000\n",
      "2600 / 4000\n",
      "2650 / 4000\n",
      "2700 / 4000\n",
      "2750 / 4000\n",
      "2800 / 4000\n",
      "2850 / 4000\n",
      "2900 / 4000\n",
      "2950 / 4000\n",
      "3000 / 4000\n",
      "3050 / 4000\n",
      "3100 / 4000\n",
      "3150 / 4000\n",
      "3200 / 4000\n",
      "3250 / 4000\n",
      "3300 / 4000\n",
      "3350 / 4000\n",
      "3400 / 4000\n",
      "3450 / 4000\n",
      "3500 / 4000\n",
      "3550 / 4000\n",
      "3600 / 4000\n",
      "3650 / 4000\n",
      "3700 / 4000\n",
      "3750 / 4000\n",
      "3800 / 4000\n",
      "3850 / 4000\n",
      "3900 / 4000\n",
      "3950 / 4000\n",
      "(4001, 101, 101, 1)\n"
     ]
    }
   ],
   "source": [
    "X = np.ndarray(shape = (0, 101, 101, 1))\n",
    "for i in range (len (files)):\n",
    "    im = Image.open(train_im_dir+files[i])\n",
    "    if (im.mode == \"RGB\"):\n",
    "        im = im.convert('L')\n",
    "    pixels = np.array(list(im.getdata()))\n",
    "    pixels = pixels.reshape((1, 101, 101, 1))\n",
    "    X = np.concatenate((X, pixels), axis = 0)\n",
    "    if (i % 50 == 0):\n",
    "        print (str(i) + \" / \" + str(len(files)))\n",
    "print(X.shape)\n"
   ]
  },
  {
   "cell_type": "code",
   "execution_count": 36,
   "metadata": {},
   "outputs": [
    {
     "data": {
      "text/plain": [
       "(4000, 101, 101, 1)"
      ]
     },
     "execution_count": 36,
     "metadata": {},
     "output_type": "execute_result"
    }
   ],
   "source": [
    "X.shape"
   ]
  },
  {
   "cell_type": "code",
   "execution_count": 72,
   "metadata": {},
   "outputs": [
    {
     "name": "stdout",
     "output_type": "stream",
     "text": [
      "(4000,)\n"
     ]
    }
   ],
   "source": [
    "ids = []\n",
    "rle = []\n",
    "\n",
    "full_path = 'C:/Users/Conner/Documents/Kaggle/TGS Salt/data/train.csv'\n",
    "with open(full_path, 'r') as csvfile:\n",
    "    fieldnames = ['id', 'rle_mask']\n",
    "    reader = csv.DictReader(csvfile, fieldnames=fieldnames)\n",
    "    for row in reader:\n",
    "        ids.append(row['id'])\n",
    "        rle.append(row['rle_mask'])\n",
    "ids = np.array(ids[1:])\n",
    "rle = np.array(rle[1:])\n",
    "print(ids.shape)"
   ]
  },
  {
   "cell_type": "code",
   "execution_count": 87,
   "metadata": {},
   "outputs": [],
   "source": [
    "def rle_to_many_hot(rle, w, h):\n",
    "    many_hot = np.zeros(shape = (w*h))\n",
    "    separated = rle.split()\n",
    "    for i in range(len(separated)):\n",
    "        if (i % 2 == 0):\n",
    "            for j in range (int(separated[i+1])):\n",
    "                many_hot[int(separated[i]) + j-1] = 1\n",
    "    return (many_hot.reshape(1, w*h))\n",
    "                "
   ]
  },
  {
   "cell_type": "code",
   "execution_count": 88,
   "metadata": {},
   "outputs": [
    {
     "name": "stdout",
     "output_type": "stream",
     "text": [
      "[[ 0.  0.  0.  0.  0.  0.  0.  0.  0.  1.  1.  1.  1.  0.  0.  1.  1.  1.\n",
      "   0.  0.  0.  0.  0.  0.  0.  0.  0.  0.  0.  0.  0.  0.  0.  0.  0.  0.\n",
      "   0.  0.  0.  0.  0.  0.  0.  0.  0.  0.  0.  0.  0.  0.  0.  0.  0.  0.\n",
      "   0.  0.  0.  0.  0.  0.  0.  0.  0.  0.  0.  0.  0.  0.  0.  0.  0.  0.\n",
      "   0.  0.  0.  0.  0.  0.  0.  0.  0.  0.  0.  0.  0.  0.  0.  0.  0.  0.\n",
      "   0.  0.  0.  0.  0.  0.  0.  0.  0.  0.]]\n"
     ]
    }
   ],
   "source": [
    "print(rle_to_many_hot(\"10 4 16 3\", 10, 10))"
   ]
  },
  {
   "cell_type": "code",
   "execution_count": 92,
   "metadata": {
    "scrolled": true
   },
   "outputs": [
    {
     "name": "stdout",
     "output_type": "stream",
     "text": [
      "0 / 4000\n",
      "50 / 4000\n",
      "100 / 4000\n",
      "150 / 4000\n",
      "200 / 4000\n",
      "250 / 4000\n",
      "300 / 4000\n",
      "350 / 4000\n",
      "400 / 4000\n",
      "450 / 4000\n",
      "500 / 4000\n",
      "550 / 4000\n",
      "600 / 4000\n",
      "650 / 4000\n",
      "700 / 4000\n",
      "750 / 4000\n",
      "800 / 4000\n",
      "850 / 4000\n",
      "900 / 4000\n",
      "950 / 4000\n",
      "1000 / 4000\n",
      "1050 / 4000\n",
      "1100 / 4000\n",
      "1150 / 4000\n",
      "1200 / 4000\n",
      "1250 / 4000\n",
      "1300 / 4000\n",
      "1350 / 4000\n",
      "1400 / 4000\n",
      "1450 / 4000\n",
      "1500 / 4000\n",
      "1550 / 4000\n",
      "1600 / 4000\n",
      "1650 / 4000\n",
      "1700 / 4000\n",
      "1750 / 4000\n",
      "1800 / 4000\n",
      "1850 / 4000\n",
      "1900 / 4000\n",
      "1950 / 4000\n",
      "2000 / 4000\n",
      "2050 / 4000\n",
      "2100 / 4000\n",
      "2150 / 4000\n",
      "2200 / 4000\n",
      "2250 / 4000\n",
      "2300 / 4000\n",
      "2350 / 4000\n",
      "2400 / 4000\n",
      "2450 / 4000\n",
      "2500 / 4000\n",
      "2550 / 4000\n",
      "2600 / 4000\n",
      "2650 / 4000\n",
      "2700 / 4000\n",
      "2750 / 4000\n",
      "2800 / 4000\n",
      "2850 / 4000\n",
      "2900 / 4000\n",
      "2950 / 4000\n",
      "3000 / 4000\n",
      "3050 / 4000\n",
      "3100 / 4000\n",
      "3150 / 4000\n",
      "3200 / 4000\n",
      "3250 / 4000\n",
      "3300 / 4000\n",
      "3350 / 4000\n",
      "3400 / 4000\n",
      "3450 / 4000\n",
      "3500 / 4000\n",
      "3550 / 4000\n",
      "3600 / 4000\n",
      "3650 / 4000\n",
      "3700 / 4000\n",
      "3750 / 4000\n",
      "3800 / 4000\n",
      "3850 / 4000\n",
      "3900 / 4000\n",
      "3950 / 4000\n"
     ]
    }
   ],
   "source": [
    "many_hot = np.zeros(shape = (0, w*h))\n",
    "for i in range (len (ids)):\n",
    "    many_hot = np.concatenate((many_hot, rle_to_many_hot(rle[i], w, h)), axis = 0)\n",
    "    if (i % 50 == 0):\n",
    "        print (str(i) + \" / \" + str(len(ids)))\n",
    "        \n",
    "y = many_hot"
   ]
  },
  {
   "cell_type": "code",
   "execution_count": 2,
   "metadata": {},
   "outputs": [
    {
     "ename": "NameError",
     "evalue": "name 'X' is not defined",
     "output_type": "error",
     "traceback": [
      "\u001b[1;31m---------------------------------------------------------------------------\u001b[0m",
      "\u001b[1;31mNameError\u001b[0m                                 Traceback (most recent call last)",
      "\u001b[1;32m<ipython-input-2-d9ece9b2c4c0>\u001b[0m in \u001b[0;36m<module>\u001b[1;34m()\u001b[0m\n\u001b[0;32m      1\u001b[0m \u001b[1;32mimport\u001b[0m \u001b[0mpickle\u001b[0m\u001b[1;33m\u001b[0m\u001b[0m\n\u001b[1;32m----> 2\u001b[1;33m \u001b[0mdata\u001b[0m \u001b[1;33m=\u001b[0m \u001b[1;33m[\u001b[0m\u001b[0mX\u001b[0m\u001b[1;33m,\u001b[0m \u001b[0mmany_hot\u001b[0m\u001b[1;33m]\u001b[0m\u001b[1;33m\u001b[0m\u001b[0m\n\u001b[0m\u001b[0;32m      3\u001b[0m \u001b[0mpickle\u001b[0m\u001b[1;33m.\u001b[0m\u001b[0mdump\u001b[0m\u001b[1;33m(\u001b[0m\u001b[0mdata\u001b[0m\u001b[1;33m,\u001b[0m \u001b[0mopen\u001b[0m\u001b[1;33m(\u001b[0m\u001b[1;34m\"training.p\"\u001b[0m\u001b[1;33m,\u001b[0m \u001b[1;34m'wb'\u001b[0m\u001b[1;33m)\u001b[0m \u001b[1;33m)\u001b[0m\u001b[1;33m\u001b[0m\u001b[0m\n",
      "\u001b[1;31mNameError\u001b[0m: name 'X' is not defined"
     ]
    }
   ],
   "source": [
    "import pickle\n",
    "data = [X, many_hot]\n",
    "pickle.dump(data, open(\"training.p\", 'wb') )"
   ]
  },
  {
   "cell_type": "code",
   "execution_count": 3,
   "metadata": {},
   "outputs": [],
   "source": [
    "import pickle\n",
    "data = pickle.load(open(\"training.p\", 'rb'))\n",
    "X = data[0]\n",
    "y = data[1]"
   ]
  },
  {
   "cell_type": "code",
   "execution_count": 4,
   "metadata": {},
   "outputs": [],
   "source": [
    "# Train Test Split\n",
    "from sklearn.model_selection import train_test_split\n",
    "X_train, X_test, y_train, y_test = train_test_split(X, y, test_size=0.20)"
   ]
  },
  {
   "cell_type": "code",
   "execution_count": 5,
   "metadata": {},
   "outputs": [],
   "source": [
    "class PictureHelper():\n",
    "    \n",
    "    def __init__(self):\n",
    "        self.i = 0\n",
    "\n",
    "        self.training_images = X_train\n",
    "        self.training_labels = y_train\n",
    "        \n",
    "        self.test_images = X_test\n",
    "        self.test_labels = y_test\n",
    "    \n",
    "    def getTraining(self, batch_size):\n",
    "        # shuffle data\n",
    "        p = numpy.random.permutation(len(self.testing_images))\n",
    "        self.testing_images = self.testing_images[p]\n",
    "        self.testing_labels = self.testing_labels[p]\n",
    "            \n",
    "        if (batch_size < self.testing_images.shape[0]):\n",
    "            x = self.testing_images[:batch_size]\n",
    "            y = self.testing_labels[:batch_size]\n",
    "        else:\n",
    "            x = self.testing_images\n",
    "            y = self.testing_labels\n",
    "        \n",
    "        return x, y\n",
    "        \n",
    "        \n",
    "    def next_batch(self, batch_size):\n",
    "        \n",
    "        if (self.i + batch_size >= self.training_images.shape[0]):\n",
    "            p = numpy.random.permutation(len(self.training_images))\n",
    "            self.training_images = self.training_images[p]\n",
    "            self.training_labels = self.training_labels[p]\n",
    "            \n",
    "        x = self.training_images[self.i:self.i+batch_size]\n",
    "        y = self.training_labels[self.i:self.i+batch_size]\n",
    "            \n",
    "        self.i = (self.i + batch_size) % len(self.training_images)\n",
    "        \n",
    "        return x, y"
   ]
  },
  {
   "cell_type": "code",
   "execution_count": 6,
   "metadata": {},
   "outputs": [
    {
     "name": "stdout",
     "output_type": "stream",
     "text": [
      "(10, 101, 101, 1)\n",
      "(10, 10201)\n"
     ]
    }
   ],
   "source": [
    "ph = PictureHelper()\n",
    "x, y = ph.next_batch(10)\n",
    "print(x.shape)\n",
    "print(y.shape)"
   ]
  },
  {
   "cell_type": "markdown",
   "metadata": {},
   "source": [
    "## Creating the Model\n",
    "\n",
    "** Import tensorflow **"
   ]
  },
  {
   "cell_type": "code",
   "execution_count": 7,
   "metadata": {},
   "outputs": [],
   "source": [
    "import tensorflow as tf"
   ]
  },
  {
   "cell_type": "code",
   "execution_count": 8,
   "metadata": {},
   "outputs": [],
   "source": [
    "x = tf.placeholder(tf.float32,shape=[None,w,h,1])\n",
    "y_true = tf.placeholder(tf.float32,shape=[None,w*h])"
   ]
  },
  {
   "cell_type": "code",
   "execution_count": 9,
   "metadata": {},
   "outputs": [],
   "source": [
    "hold_prob = tf.placeholder(tf.float32)"
   ]
  },
  {
   "cell_type": "code",
   "execution_count": 10,
   "metadata": {},
   "outputs": [],
   "source": [
    "def init_weights(shape):\n",
    "    init_random_dist = tf.truncated_normal(shape, stddev=0.1)\n",
    "    return tf.Variable(init_random_dist)\n",
    "\n",
    "def init_bias(shape):\n",
    "    init_bias_vals = tf.constant(0.1, shape=shape)\n",
    "    return tf.Variable(init_bias_vals)\n",
    "\n",
    "def conv2d(x, W):\n",
    "    return tf.nn.conv2d(x, W, strides=[1, 1, 1, 1], padding='SAME')\n",
    "\n",
    "def max_pool_2by2(x):\n",
    "    return tf.nn.max_pool(x, ksize=[1, 2, 2, 1],\n",
    "                          strides=[1, 2, 2, 1], padding='SAME')\n",
    "\n",
    "def convolutional_layer(input_x, shape):\n",
    "    W = init_weights(shape)\n",
    "    b = init_bias([shape[3]])\n",
    "    return tf.nn.relu(conv2d(input_x, W) + b)\n",
    "\n",
    "def normal_full_layer(input_layer, size):\n",
    "    input_size = int(input_layer.get_shape()[1])\n",
    "    W = init_weights([input_size, size])\n",
    "    b = init_bias([size])\n",
    "    return tf.matmul(input_layer, W) + b"
   ]
  },
  {
   "cell_type": "markdown",
   "metadata": {},
   "source": [
    "# Creating Layers"
   ]
  },
  {
   "cell_type": "code",
   "execution_count": 11,
   "metadata": {},
   "outputs": [],
   "source": [
    "convo_1 = convolutional_layer(x,shape=[4,4,1,32])\n",
    "convo_1_pooling = max_pool_2by2(convo_1)"
   ]
  },
  {
   "cell_type": "code",
   "execution_count": 12,
   "metadata": {},
   "outputs": [],
   "source": [
    "convo_2 = convolutional_layer(convo_1_pooling,shape=[4,4,32,64])\n",
    "convo_2_pooling = max_pool_2by2(convo_2)"
   ]
  },
  {
   "cell_type": "markdown",
   "metadata": {},
   "source": [
    "** Now create a flattened layer by reshaping the pooling layer into [-1,8 \\* 8 \\* 64] or [-1,4096] **"
   ]
  },
  {
   "cell_type": "code",
   "execution_count": 13,
   "metadata": {},
   "outputs": [],
   "source": [
    "import math\n",
    "new_w = math.ceil(w / 4)\n",
    "new_h = math.ceil(h/4)"
   ]
  },
  {
   "cell_type": "code",
   "execution_count": 14,
   "metadata": {},
   "outputs": [],
   "source": [
    "convo_2_flat = tf.reshape(convo_2_pooling,[-1,new_h*new_w*64])"
   ]
  },
  {
   "cell_type": "markdown",
   "metadata": {},
   "source": [
    "** Create a new full layer using the normal_full_layer function and passing in your flattend convolutional 2 layer with size=1024. (You could also choose to reduce this to something like 512)**"
   ]
  },
  {
   "cell_type": "code",
   "execution_count": 15,
   "metadata": {},
   "outputs": [],
   "source": [
    "full_layer_one = tf.nn.relu(normal_full_layer(convo_2_flat,1024))"
   ]
  },
  {
   "cell_type": "markdown",
   "metadata": {},
   "source": [
    "** Now create the dropout layer with tf.nn.dropout, remember to pass in your hold_prob placeholder. **"
   ]
  },
  {
   "cell_type": "code",
   "execution_count": 16,
   "metadata": {},
   "outputs": [],
   "source": [
    "full_one_dropout = tf.nn.dropout(full_layer_one,keep_prob=hold_prob)"
   ]
  },
  {
   "cell_type": "markdown",
   "metadata": {},
   "source": [
    "** Finally set the output to y_pred by passing in the dropout layer into the normal_full_layer function. The size should be 10 because of the 10 possible labels**"
   ]
  },
  {
   "cell_type": "code",
   "execution_count": 17,
   "metadata": {},
   "outputs": [],
   "source": [
    "y_pred = normal_full_layer(full_one_dropout,w*h)"
   ]
  },
  {
   "cell_type": "markdown",
   "metadata": {},
   "source": [
    "### Loss Function\n",
    "\n",
    "** Create a cross_entropy loss function **"
   ]
  },
  {
   "cell_type": "code",
   "execution_count": 23,
   "metadata": {},
   "outputs": [],
   "source": [
    "cross_entropy = tf.reduce_mean(tf.nn.sigmoid_cross_entropy_with_logits(labels=y_true,logits=y_pred))"
   ]
  },
  {
   "cell_type": "markdown",
   "metadata": {},
   "source": [
    "### Optimizer\n",
    "** Create the optimizer using an Adam Optimizer. **"
   ]
  },
  {
   "cell_type": "code",
   "execution_count": 24,
   "metadata": {},
   "outputs": [],
   "source": [
    "optimizer = tf.train.AdamOptimizer(learning_rate=0.001)\n",
    "train = optimizer.minimize(cross_entropy)"
   ]
  },
  {
   "cell_type": "markdown",
   "metadata": {},
   "source": [
    "** Create a variable to intialize all the global tf variables. **"
   ]
  },
  {
   "cell_type": "code",
   "execution_count": 25,
   "metadata": {},
   "outputs": [],
   "source": [
    "init = tf.global_variables_initializer()"
   ]
  },
  {
   "cell_type": "markdown",
   "metadata": {},
   "source": [
    "## Graph Session\n",
    "\n",
    "** Perform the training and test print outs in a Tf session and run your model! **"
   ]
  },
  {
   "cell_type": "code",
   "execution_count": null,
   "metadata": {},
   "outputs": [
    {
     "name": "stdout",
     "output_type": "stream",
     "text": [
      "0\n",
      "Currently on step 0\n",
      "Accuracy is:\n",
      "0.544124\n",
      "\n",
      "\n",
      "1\n",
      "2\n",
      "3\n",
      "4\n",
      "5\n",
      "6\n",
      "7\n",
      "8\n",
      "9\n",
      "10\n",
      "Currently on step 10\n",
      "Accuracy is:\n",
      "0.534497\n",
      "\n",
      "\n",
      "11\n",
      "12\n",
      "13\n",
      "14\n",
      "15\n",
      "16\n",
      "17\n",
      "18\n",
      "19\n",
      "20\n",
      "Currently on step 20\n",
      "Accuracy is:\n",
      "0.541895\n",
      "\n",
      "\n",
      "21\n",
      "22\n",
      "23\n",
      "24\n",
      "25\n",
      "26\n",
      "27\n",
      "28\n",
      "29\n",
      "30\n",
      "Currently on step 30\n",
      "Accuracy is:\n",
      "0.563977\n",
      "\n",
      "\n",
      "31\n",
      "32\n",
      "33\n",
      "34\n",
      "35\n",
      "36\n",
      "37\n",
      "38\n",
      "39\n",
      "40\n",
      "Currently on step 40\n",
      "Accuracy is:\n",
      "0.565773\n",
      "\n",
      "\n",
      "41\n",
      "42\n",
      "43\n",
      "44\n",
      "45\n",
      "46\n",
      "47\n",
      "48\n",
      "49\n",
      "50\n",
      "Currently on step 50\n",
      "Accuracy is:\n",
      "0.563719\n",
      "\n",
      "\n",
      "51\n",
      "52\n",
      "53\n",
      "54\n",
      "55\n",
      "56\n",
      "57\n",
      "58\n",
      "59\n",
      "60\n",
      "Currently on step 60\n",
      "Accuracy is:\n",
      "0.573927\n",
      "\n",
      "\n",
      "61\n",
      "62\n",
      "63\n",
      "64\n",
      "65\n",
      "66\n",
      "67\n",
      "68\n",
      "69\n",
      "70\n",
      "Currently on step 70\n",
      "Accuracy is:\n",
      "0.57396\n",
      "\n",
      "\n",
      "71\n",
      "72\n",
      "73\n",
      "74\n",
      "75\n",
      "76\n",
      "77\n",
      "78\n",
      "79\n",
      "80\n",
      "Currently on step 80\n",
      "Accuracy is:\n",
      "0.574387\n",
      "\n",
      "\n",
      "81\n",
      "82\n",
      "83\n",
      "84\n",
      "85\n",
      "86\n",
      "87\n",
      "88\n",
      "89\n",
      "90\n",
      "Currently on step 90\n",
      "Accuracy is:\n",
      "0.574919\n",
      "\n",
      "\n",
      "91\n",
      "92\n",
      "93\n",
      "94\n",
      "95\n",
      "96\n",
      "97\n",
      "98\n",
      "99\n",
      "100\n",
      "Currently on step 100\n",
      "Accuracy is:\n",
      "0.575513\n",
      "\n",
      "\n",
      "101\n",
      "102\n",
      "103\n",
      "104\n",
      "105\n",
      "106\n",
      "107\n",
      "108\n",
      "109\n",
      "110\n",
      "Currently on step 110\n",
      "Accuracy is:\n",
      "0.576119\n",
      "\n",
      "\n",
      "111\n",
      "112\n",
      "113\n",
      "114\n",
      "115\n",
      "116\n",
      "117\n",
      "118\n",
      "119\n",
      "120\n",
      "Currently on step 120\n",
      "Accuracy is:\n",
      "0.576724\n",
      "\n",
      "\n",
      "121\n",
      "122\n",
      "123\n",
      "124\n",
      "125\n",
      "126\n",
      "127\n",
      "128\n",
      "129\n",
      "130\n",
      "Currently on step 130\n",
      "Accuracy is:\n"
     ]
    }
   ],
   "source": [
    "with tf.Session() as sess:\n",
    "    sess.run(tf.global_variables_initializer())\n",
    "\n",
    "    for i in range(5000):\n",
    "        ph = PictureHelper()\n",
    "        batch = ph.next_batch(8)\n",
    "        sess.run(train, feed_dict={x: batch[0], y_true: batch[1], hold_prob: 0.5})\n",
    "        print(i)\n",
    "        # PRINT OUT A MESSAGE EVERY 100 STEPS\n",
    "        if i%10 == 0:\n",
    "            \n",
    "            print('Currently on step {}'.format(i))\n",
    "            print('Accuracy is:')\n",
    "            # Test the Train Model\n",
    "            matches = tf.equal(y_pred > 0.5, y_true==1)\n",
    "\n",
    "            acc = tf.reduce_mean(tf.cast(matches,tf.float32))\n",
    "\n",
    "            print(sess.run(acc,feed_dict={x:ph.test_images,y_true:ph.test_labels,hold_prob:1.0}))\n",
    "\n",
    "            print('\\n')"
   ]
  },
  {
   "cell_type": "code",
   "execution_count": null,
   "metadata": {},
   "outputs": [],
   "source": []
  }
 ],
 "metadata": {
  "kernelspec": {
   "display_name": "Python 3",
   "language": "python",
   "name": "python3"
  },
  "language_info": {
   "codemirror_mode": {
    "name": "ipython",
    "version": 3
   },
   "file_extension": ".py",
   "mimetype": "text/x-python",
   "name": "python",
   "nbconvert_exporter": "python",
   "pygments_lexer": "ipython3",
   "version": "3.6.2"
  }
 },
 "nbformat": 4,
 "nbformat_minor": 2
}
