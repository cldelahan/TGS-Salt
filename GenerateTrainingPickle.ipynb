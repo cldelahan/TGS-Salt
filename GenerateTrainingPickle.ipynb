{
 "cells": [
  {
   "cell_type": "code",
   "execution_count": null,
   "metadata": {},
   "outputs": [],
   "source": [
    "import numpy as np\n",
    "import pickle\n",
    "import csv\n",
    "from PIL import Image\n",
    "import matplotlib.pyplot\n",
    "from os import listdir\n",
    "from os.path import isfile, join\n",
    "import math"
   ]
  },
  {
   "cell_type": "markdown",
   "metadata": {},
   "source": [
    "Declaring Directories"
   ]
  },
  {
   "cell_type": "code",
   "execution_count": null,
   "metadata": {},
   "outputs": [],
   "source": [
    "train_im_dir = \"../../data/train/images/\"\n",
    "train_data_dir = \"../../data/train/train.csv\"\n",
    "w = 101\n",
    "h = 101\n",
    "files = [f for f in listdir(train_im_dir) if isfile(join(train_im_dir, f))]"
   ]
  },
  {
   "cell_type": "markdown",
   "metadata": {},
   "source": [
    "Reading in images in X"
   ]
  },
  {
   "cell_type": "code",
   "execution_count": null,
   "metadata": {},
   "outputs": [],
   "source": [
    "X = np.ndarray(shape = (0, 101, 101, 1))\n",
    "for i in range (len (files)):\n",
    "    im = Image.open(train_im_dir+files[i])\n",
    "    if (im.mode == \"RGB\"):\n",
    "        im = im.convert('L')\n",
    "    pixels = np.array(list(im.getdata()))\n",
    "    pixels = pixels.reshape((1, 101, 101, 1))\n",
    "    X = np.concatenate((X, pixels), axis = 0)\n",
    "    if (i % 50 == 0):\n",
    "        print (str(i) + \" / \" + str(len(files)))\n",
    "print(X.shape)"
   ]
  },
  {
   "cell_type": "markdown",
   "metadata": {},
   "source": [
    "Reading in labels"
   ]
  },
  {
   "cell_type": "code",
   "execution_count": null,
   "metadata": {},
   "outputs": [],
   "source": [
    "ids = []\n",
    "rle = []\n",
    "\n",
    "full_path = 'C:/Users/Conner/Documents/Kaggle/TGS Salt/data/train.csv'\n",
    "with open(full_path, 'r') as csvfile:\n",
    "    fieldnames = ['id', 'rle_mask']\n",
    "    reader = csv.DictReader(csvfile, fieldnames=fieldnames)\n",
    "    for row in reader:\n",
    "        ids.append(row['id'])\n",
    "        rle.append(row['rle_mask'])\n",
    "ids = np.array(ids[1:])\n",
    "rle = np.array(rle[1:])\n",
    "print(ids.shape)"
   ]
  },
  {
   "cell_type": "markdown",
   "metadata": {},
   "source": [
    "Declaring function to convert Run-Length Encoding to One Hot"
   ]
  },
  {
   "cell_type": "code",
   "execution_count": null,
   "metadata": {},
   "outputs": [],
   "source": [
    "def rle_to_many_hot(rle, w, h):\n",
    "    many_hot = np.zeros(shape = (w*h))\n",
    "    separated = rle.split()\n",
    "    for i in range(len(separated)):\n",
    "        if (i % 2 == 0):\n",
    "            for j in range (int(separated[i+1])):\n",
    "                many_hot[int(separated[i]) + j-1] = 1\n",
    "    return (many_hot.reshape(1, w*h))\n",
    "                "
   ]
  },
  {
   "cell_type": "markdown",
   "metadata": {},
   "source": [
    "Converting labels to One-hot"
   ]
  },
  {
   "cell_type": "code",
   "execution_count": null,
   "metadata": {},
   "outputs": [],
   "source": [
    "many_hot = np.zeros(shape = (0, w*h))\n",
    "for i in range (len (ids)):\n",
    "    many_hot = np.concatenate((many_hot, rle_to_many_hot(rle[i], w, h)), axis = 0)\n",
    "    if (i % 50 == 0):\n",
    "        print (str(i) + \" / \" + str(len(ids)))\n",
    "        \n",
    "y = many_hot"
   ]
  },
  {
   "cell_type": "markdown",
   "metadata": {},
   "source": [
    "Saving in pickle"
   ]
  },
  {
   "cell_type": "code",
   "execution_count": null,
   "metadata": {},
   "outputs": [],
   "source": [
    "data = [X, many_hot]\n",
    "pickle.dump(data, open(\"training.p\", 'wb') )"
   ]
  }
 ],
 "metadata": {
  "kernelspec": {
   "display_name": "Python 3",
   "language": "python",
   "name": "python3"
  },
  "language_info": {
   "codemirror_mode": {
    "name": "ipython",
    "version": 3
   },
   "file_extension": ".py",
   "mimetype": "text/x-python",
   "name": "python",
   "nbconvert_exporter": "python",
   "pygments_lexer": "ipython3",
   "version": "3.6.2"
  }
 },
 "nbformat": 4,
 "nbformat_minor": 2
}
