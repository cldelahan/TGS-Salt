{
 "cells": [
  {
   "cell_type": "markdown",
   "metadata": {},
   "source": [
    "Imports"
   ]
  },
  {
   "cell_type": "code",
   "execution_count": 1,
   "metadata": {},
   "outputs": [],
   "source": [
    "import numpy as np\n",
    "import csv\n",
    "from PIL import Image\n",
    "import matplotlib.pyplot as plt\n",
    "from os import listdir\n",
    "from os.path import isfile, join\n",
    "import math"
   ]
  },
  {
   "cell_type": "code",
   "execution_count": 2,
   "metadata": {},
   "outputs": [],
   "source": [
    "w = 101\n",
    "h = 101"
   ]
  },
  {
   "cell_type": "markdown",
   "metadata": {},
   "source": [
    "Reading in Training Data"
   ]
  },
  {
   "cell_type": "code",
   "execution_count": 3,
   "metadata": {},
   "outputs": [],
   "source": [
    "import pickle\n",
    "data = pickle.load(open(\"training_separated.p\", 'rb'))\n",
    "X = data[0]\n",
    "y = data[1]"
   ]
  },
  {
   "cell_type": "code",
   "execution_count": 4,
   "metadata": {},
   "outputs": [],
   "source": [
    "# Train Test Split\n",
    "from sklearn.model_selection import train_test_split\n",
    "X_train, X_test, y_train, y_test = train_test_split(X, y, test_size=0.30)"
   ]
  },
  {
   "cell_type": "code",
   "execution_count": 5,
   "metadata": {},
   "outputs": [],
   "source": [
    "class PictureHelper():\n",
    "    \n",
    "    def __init__(self):\n",
    "        self.i = 0\n",
    "\n",
    "        self.training_images = X_train\n",
    "        self.training_labels = y_train\n",
    "        \n",
    "        self.testing_images = X_test\n",
    "        self.testing_labels = y_test\n",
    "    \n",
    "    def getTesting(self, batch_size):\n",
    "        # shuffle data\n",
    "        p = np.random.permutation(len(self.testing_images))\n",
    "        self.testing_images = self.testing_images[p]\n",
    "        self.testing_labels = self.testing_labels[p]   \n",
    "        if (batch_size < self.testing_images.shape[0]):\n",
    "            x = self.testing_images[:batch_size]\n",
    "            y = self.testing_labels[:batch_size]\n",
    "        else:\n",
    "            x = self.testing_images\n",
    "            y = self.testing_labels\n",
    "        \n",
    "        return x, y\n",
    "        \n",
    "        \n",
    "    def next_batch(self, batch_size):\n",
    "        \n",
    "        if (self.i + batch_size >= self.training_images.shape[0]):\n",
    "            p = numpy.random.permutation(len(self.training_images))\n",
    "            self.training_images = self.training_images[p]\n",
    "            self.training_labels = self.training_labels[p]\n",
    "            \n",
    "        x = self.training_images[self.i:self.i+batch_size]\n",
    "        y = self.training_labels[self.i:self.i+batch_size]\n",
    "            \n",
    "        self.i = (self.i + batch_size) % len(self.training_images)\n",
    "        \n",
    "        return x, y"
   ]
  },
  {
   "cell_type": "code",
   "execution_count": 6,
   "metadata": {},
   "outputs": [
    {
     "name": "stdout",
     "output_type": "stream",
     "text": [
      "(10, 101, 101, 1)\n",
      "(10, 2)\n"
     ]
    }
   ],
   "source": [
    "ph = PictureHelper()\n",
    "x, y = ph.getTesting(10)\n",
    "print(x.shape)\n",
    "print(y.shape)"
   ]
  },
  {
   "cell_type": "markdown",
   "metadata": {},
   "source": [
    "## Creating the Model\n",
    "\n",
    "** Import tensorflow **"
   ]
  },
  {
   "cell_type": "code",
   "execution_count": 7,
   "metadata": {},
   "outputs": [],
   "source": [
    "import tensorflow as tf"
   ]
  },
  {
   "cell_type": "code",
   "execution_count": 8,
   "metadata": {},
   "outputs": [],
   "source": [
    "x = tf.placeholder(tf.float32,shape=[None,w,h,1])\n",
    "y_true = tf.placeholder(tf.float32,shape=[None,2])"
   ]
  },
  {
   "cell_type": "code",
   "execution_count": 9,
   "metadata": {},
   "outputs": [],
   "source": [
    "hold_prob = tf.placeholder(tf.float32)"
   ]
  },
  {
   "cell_type": "code",
   "execution_count": 10,
   "metadata": {},
   "outputs": [],
   "source": [
    "def init_weights(shape):\n",
    "    init_random_dist = tf.truncated_normal(shape, stddev=0.1)\n",
    "    return tf.Variable(init_random_dist)\n",
    "\n",
    "def init_bias(shape):\n",
    "    init_bias_vals = tf.constant(0.1, shape=shape)\n",
    "    return tf.Variable(init_bias_vals)\n",
    "\n",
    "def conv2d(x, W):\n",
    "    return tf.nn.conv2d(x, W, strides=[1, 1, 1, 1], padding='SAME')\n",
    "\n",
    "def max_pool_2by2(x):\n",
    "    return tf.nn.max_pool(x, ksize=[1, 2, 2, 1],\n",
    "                          strides=[1, 2, 2, 1], padding='SAME')\n",
    "\n",
    "def convolutional_layer(input_x, shape):\n",
    "    W = init_weights(shape)\n",
    "    b = init_bias([shape[3]])\n",
    "    return tf.nn.relu(conv2d(input_x, W) + b)\n",
    "\n",
    "def normal_full_layer(input_layer, size):\n",
    "    input_size = int(input_layer.get_shape()[1])\n",
    "    W = init_weights([input_size, size])\n",
    "    b = init_bias([size])\n",
    "    return tf.matmul(input_layer, W) + b"
   ]
  },
  {
   "cell_type": "markdown",
   "metadata": {},
   "source": [
    "# Creating Layers"
   ]
  },
  {
   "cell_type": "code",
   "execution_count": 11,
   "metadata": {},
   "outputs": [
    {
     "name": "stdout",
     "output_type": "stream",
     "text": [
      "WARNING:tensorflow:From <ipython-input-11-f214e8f5ff9d>:28: softmax_cross_entropy_with_logits (from tensorflow.python.ops.nn_ops) is deprecated and will be removed in a future version.\n",
      "Instructions for updating:\n",
      "\n",
      "Future major versions of TensorFlow will allow gradients to flow\n",
      "into the labels input on backprop by default.\n",
      "\n",
      "See @{tf.nn.softmax_cross_entropy_with_logits_v2}.\n",
      "\n"
     ]
    }
   ],
   "source": [
    "convo_1 = convolutional_layer(x,shape=[4,4,1,32])\n",
    "convo_2 = convolutional_layer(convo_1,shape=[4,4,32,128])\n",
    "convo_2_pooling = max_pool_2by2(convo_2)\n",
    "\n",
    "convo_3 = convolutional_layer(convo_2_pooling,shape=[4,4,128,256])\n",
    "convo_4 = convolutional_layer(convo_3,shape=[4,4,256,256])\n",
    "convo_4_pooling = max_pool_2by2(convo_4)\n",
    "\n",
    "convo_5 = convolutional_layer(convo_4_pooling,shape=[4,4,256,128])\n",
    "convo_6 = convolutional_layer(convo_5,shape=[4,4,128,128])\n",
    "convo_6_pooling = max_pool_2by2(convo_6)\n",
    "\n",
    "new_w = math.ceil(w / 8)\n",
    "new_h = math.ceil(h / 8)\n",
    "\n",
    "num_features = 128\n",
    "\n",
    "convo_6_flat = tf.reshape(convo_6_pooling,[-1,new_h*new_w*num_features])\n",
    "\n",
    "full_layer_1 = tf.nn.relu(normal_full_layer(convo_6_flat,1024))\n",
    "\n",
    "full_layer_2 = tf.nn.relu(normal_full_layer(full_layer_1,1024))\n",
    "\n",
    "full_dropout = tf.nn.dropout(full_layer_2,keep_prob=hold_prob)\n",
    "\n",
    "y_pred = normal_full_layer(full_dropout,2)\n",
    "\n",
    "cross_entropy = tf.nn.softmax_cross_entropy_with_logits(labels=y_true,logits=y_pred)\n",
    "\n",
    "optimizer = tf.train.AdamOptimizer(learning_rate=0.001)\n",
    "train = optimizer.minimize(cross_entropy)\n",
    "\n",
    "init = tf.global_variables_initializer()"
   ]
  },
  {
   "cell_type": "markdown",
   "metadata": {},
   "source": [
    "## Graph Session\n",
    "\n",
    "** Perform the training and test print outs in a Tf session and run your model! **"
   ]
  },
  {
   "cell_type": "code",
   "execution_count": 12,
   "metadata": {},
   "outputs": [],
   "source": [
    "gpu_options = tf.GPUOptions(per_process_gpu_memory_fraction=0.90)"
   ]
  },
  {
   "cell_type": "code",
   "execution_count": 13,
   "metadata": {},
   "outputs": [
    {
     "data": {
      "text/plain": [
       "[name: \"/device:CPU:0\"\n",
       " device_type: \"CPU\"\n",
       " memory_limit: 268435456\n",
       " locality {\n",
       " }\n",
       " incarnation: 8835665037244868753, name: \"/device:GPU:0\"\n",
       " device_type: \"GPU\"\n",
       " memory_limit: 11280806708\n",
       " locality {\n",
       "   bus_id: 1\n",
       "   links {\n",
       "   }\n",
       " }\n",
       " incarnation: 12002163863566941825\n",
       " physical_device_desc: \"device: 0, name: Tesla K80, pci bus id: 0000:00:04.0, compute capability: 3.7\"]"
      ]
     },
     "execution_count": 13,
     "metadata": {},
     "output_type": "execute_result"
    }
   ],
   "source": [
    "from tensorflow.python.client import device_lib\n",
    "device_lib.list_local_devices()"
   ]
  },
  {
   "cell_type": "code",
   "execution_count": 14,
   "metadata": {},
   "outputs": [],
   "source": [
    "actual = []\n",
    "predicted = []"
   ]
  },
  {
   "cell_type": "code",
   "execution_count": null,
   "metadata": {
    "scrolled": true
   },
   "outputs": [
    {
     "name": "stdout",
     "output_type": "stream",
     "text": [
      "Currently on step 0\n",
      "Accuracy is:\n",
      "0.585\n",
      "Currently on step 10\n",
      "Accuracy is:\n",
      "0.61\n",
      "Currently on step 20\n",
      "Accuracy is:\n",
      "0.6\n",
      "Currently on step 30\n",
      "Accuracy is:\n",
      "0.62\n",
      "Currently on step 40\n",
      "Accuracy is:\n",
      "0.595\n",
      "Currently on step 50\n",
      "Accuracy is:\n",
      "0.595\n",
      "Currently on step 60\n",
      "Accuracy is:\n",
      "0.635\n",
      "Currently on step 70\n",
      "Accuracy is:\n",
      "0.59\n"
     ]
    }
   ],
   "source": [
    "# config = tf.ConfigProto(gpu_options = gpu_options)\n",
    "with tf.Session(config=tf.ConfigProto(log_device_placement=True)) as sess:\n",
    "    sess.run(tf.global_variables_initializer())\n",
    "\n",
    "    for i in range(10000):\n",
    "        ph = PictureHelper()\n",
    "        batch = ph.next_batch(8)\n",
    "        sess.run(train, feed_dict={x: batch[0], y_true: batch[1], hold_prob: 1.0})\n",
    "        # PRINT OUT A MESSAGE EVERY 100 STEPS\n",
    "        if i%10 == 0:\n",
    "            print('Currently on step {}'.format(i))\n",
    "            print('Accuracy is:')\n",
    "            # Test the Model\n",
    "            x_test2, y_test2 = ph.getTesting(200)\n",
    "            \n",
    "            # metric for accuracy\n",
    "            matches = tf.equal(tf.argmax(y_pred, axis = 1), tf.argmax(y_true, axis = 1))\n",
    "            acc = tf.reduce_mean(tf.cast(matches,tf.float32))\n",
    "            \n",
    "            # generating the predictions\n",
    "            temp_acc = sess.run(acc,feed_dict={x:x_test2, y_true:y_test2, hold_prob:1.0})\n",
    "\n",
    "            print(temp_acc)\n",
    "            if (i%10==0):\n",
    "                predicted.append(sess.run(y_pred, feed_dict = {x:x_test2, y_true:y_test2, hold_prob:1.0}))\n",
    "                actual.append(y_test2)\n",
    "                data = [actual, predicted]\n",
    "                pickle.dump(data, open('results.p', 'wb'))"
   ]
  },
  {
   "cell_type": "markdown",
   "metadata": {},
   "source": [
    "# Analyzing Results"
   ]
  },
  {
   "cell_type": "code",
   "execution_count": 43,
   "metadata": {},
   "outputs": [],
   "source": [
    "data = pickle.load(open('results.p', 'rb'))\n",
    "actual = np.array(data[0])\n",
    "predicted = np.array(data[1])"
   ]
  },
  {
   "cell_type": "code",
   "execution_count": 44,
   "metadata": {},
   "outputs": [
    {
     "name": "stdout",
     "output_type": "stream",
     "text": [
      "(1, 200, 2)\n",
      "(1, 200, 2)\n"
     ]
    }
   ],
   "source": [
    "print(actual.shape)\n",
    "print(predicted.shape)"
   ]
  },
  {
   "cell_type": "code",
   "execution_count": 45,
   "metadata": {
    "scrolled": true
   },
   "outputs": [
    {
     "name": "stdout",
     "output_type": "stream",
     "text": [
      "[1. 0.] [-5476832.5  5514002.5]\n",
      "[0. 1.] [-5551009.5  5471478. ]\n",
      "[0. 1.] [-3789746.  3707918.]\n",
      "[0. 1.] [-5539500.  5406616.]\n",
      "[0. 1.] [-4510811.   4357718.5]\n",
      "[0. 1.] [-5812955.5  5660726. ]\n",
      "[0. 1.] [-3413292.   3212702.8]\n",
      "[0. 1.] [-4103439.8  3686549.2]\n",
      "[1. 0.] [-5799617.5  5671376.5]\n",
      "[0. 1.] [-4162358.2  3865658.8]\n",
      "[1. 0.] [-4204563.5  3935414.2]\n",
      "[0. 1.] [-3621901.2  3559249. ]\n",
      "[1. 0.] [-4266162.5  4091718.5]\n",
      "[0. 1.] [-3229783.2  3105584. ]\n",
      "[0. 1.] [-4073046.2  4072143. ]\n",
      "[0. 1.] [-3727748.5  3444687. ]\n",
      "[0. 1.] [-3914116.8  3882555.5]\n",
      "[0. 1.] [-5452372.5  5364304.5]\n",
      "[0. 1.] [-4999173.5  4665194. ]\n",
      "[0. 1.] [-5800422.  5636384.]\n",
      "[1. 0.] [-4027649.2  3916762.5]\n",
      "[1. 0.] [-4279659.   4013023.5]\n",
      "[0. 1.] [-2002408.2  1888268. ]\n",
      "[1. 0.] [-5758289.5  5629551.5]\n",
      "[1. 0.] [-2813789.5  2502229. ]\n",
      "[0. 1.] [-4334284.5  4451955. ]\n",
      "[0. 1.] [-5399348.5  5102298. ]\n",
      "[1. 0.] [-5807326.5  5642000. ]\n",
      "[0. 1.] [-5373313.  5384890.]\n",
      "[0. 1.] [-2773062.2  2807788. ]\n",
      "[0. 1.] [-5698595.  5578954.]\n",
      "[0. 1.] [-3099102.2  2909976. ]\n",
      "[0. 1.] [-4078146.8  3800007. ]\n",
      "[1. 0.] [-5742629.  5620834.]\n",
      "[0. 1.] [-3725828.8  3609637.8]\n",
      "[1. 0.] [-2340381.   2355479.8]\n",
      "[0. 1.] [-3503581.8  3416067.5]\n",
      "[1. 0.] [-3655292.   3542918.5]\n",
      "[1. 0.] [-5789135.  5610921.]\n",
      "[1. 0.] [-4120499.2  4142177. ]\n",
      "[1. 0.] [-3949945.2  3820444.2]\n",
      "[0. 1.] [-3372097.8  3312997.8]\n",
      "[1. 0.] [-5804227.5  5636613. ]\n",
      "[0. 1.] [-4171750.   3954487.2]\n",
      "[0. 1.] [-4848061.  4939054.]\n",
      "[0. 1.] [-3002493.   2873375.2]\n",
      "[1. 0.] [-5794049.5  5632029. ]\n",
      "[0. 1.] [-5172338.  5007172.]\n",
      "[1. 0.] [-4997988.5  4713429. ]\n",
      "[0. 1.] [-3513668.2  3460836.5]\n",
      "[0. 1.] [-3615898.   3543562.2]\n",
      "[1. 0.] [-2969252.5  2722425. ]\n",
      "[0. 1.] [-3646941.  3544252.]\n",
      "[0. 1.] [-2434553.2  2324465.8]\n",
      "[0. 1.] [-3296161.   3155744.2]\n",
      "[1. 0.] [-4389806.5  4434121.5]\n",
      "[1. 0.] [-5736523.5  5502230. ]\n",
      "[1. 0.] [-5668240.   5378364.5]\n",
      "[1. 0.] [-5793886.5  5568890. ]\n",
      "[0. 1.] [-4102030.8  3958050.5]\n",
      "[1. 0.] [-3908084.   3810728.2]\n",
      "[1. 0.] [-4085905.8  4114434.8]\n",
      "[0. 1.] [-5098496.5  5005717. ]\n",
      "[1. 0.] [-5426781.5  5497418. ]\n",
      "[0. 1.] [-3033101.  2881525.]\n",
      "[1. 0.] [-4377294.5  4159768.5]\n",
      "[1. 0.] [-5197095.5  5331601.5]\n",
      "[0. 1.] [-5221473.5  5002675.5]\n",
      "[0. 1.] [-5514067.5  5500795. ]\n",
      "[0. 1.] [-2691196.8  2588992.2]\n",
      "[1. 0.] [-4862122.  4634427.]\n",
      "[0. 1.] [-3280213.8  3195013. ]\n",
      "[1. 0.] [-4298300.   4229076.5]\n",
      "[0. 1.] [-3085749.5  3101426.2]\n",
      "[0. 1.] [-4303279.  4301420.]\n",
      "[1. 0.] [-2836609.5  2701281.8]\n",
      "[1. 0.] [-5601786.5  5383966.5]\n",
      "[0. 1.] [-4237413.5  4170356.8]\n",
      "[1. 0.] [-3519280.5  3228067.8]\n",
      "[1. 0.] [-5795823.  5569276.]\n",
      "[1. 0.] [-3736873.8  3619695.2]\n",
      "[0. 1.] [-3454757.8  3138958.8]\n",
      "[0. 1.] [-4034983.   3937972.8]\n",
      "[0. 1.] [-5798527.  5645046.]\n",
      "[0. 1.] [-3120455.5  3048251. ]\n",
      "[1. 0.] [-1850304.1  1779535.4]\n",
      "[0. 1.] [-3448689.8  3358099.5]\n",
      "[1. 0.] [-3754759.   4007614.2]\n",
      "[0. 1.] [-3234291.   3037578.2]\n",
      "[0. 1.] [-4589847.   4409279.5]\n",
      "[1. 0.] [-5671125.  5520753.]\n",
      "[1. 0.] [-5302681.5  5261490. ]\n",
      "[1. 0.] [-5557974.5  5368817.5]\n",
      "[1. 0.] [-5821806.  5651634.]\n",
      "[1. 0.] [-5174458.  4918795.]\n",
      "[0. 1.] [-3462970.5  3436352. ]\n",
      "[0. 1.] [-3704170.5  3514004. ]\n",
      "[0. 1.] [-5821956.   5660427.5]\n",
      "[0. 1.] [-4368760.5  4108369.2]\n",
      "[1. 0.] [-4365105.  4035625.]\n"
     ]
    }
   ],
   "source": [
    "for i in range (100):\n",
    "    print(actual[0][i], predicted[0][i])"
   ]
  },
  {
   "cell_type": "code",
   "execution_count": 46,
   "metadata": {},
   "outputs": [],
   "source": [
    "predicted[predicted<0.5] = 0\n",
    "predicted[predicted>=0.5] = 1"
   ]
  },
  {
   "cell_type": "code",
   "execution_count": 47,
   "metadata": {},
   "outputs": [
    {
     "name": "stdout",
     "output_type": "stream",
     "text": [
      "(2, 200)\n",
      "(2, 200)\n"
     ]
    }
   ],
   "source": [
    "actual = actual.reshape(actual.shape[2], actual.shape[1])\n",
    "predicted = predicted.reshape(predicted.shape[2], predicted.shape[1])\n",
    "print(actual.shape)\n",
    "print(predicted.shape)"
   ]
  },
  {
   "cell_type": "code",
   "execution_count": 59,
   "metadata": {},
   "outputs": [],
   "source": [
    "accuracy = []\n",
    "for i in range (actual.shape[0]):\n",
    "    accuracy.append((len(actual[i][actual[i] == predicted[i]])) / actual.shape[1])"
   ]
  },
  {
   "cell_type": "code",
   "execution_count": 63,
   "metadata": {},
   "outputs": [
    {
     "data": {
      "text/plain": [
       "Text(0,0.5,'Accuracy')"
      ]
     },
     "execution_count": 63,
     "metadata": {},
     "output_type": "execute_result"
    },
    {
     "data": {
      "image/png": "[encoded data removed]",
      "text/plain": [
       "<Figure size 432x288 with 1 Axes>"
      ]
     },
     "metadata": {},
     "output_type": "display_data"
    }
   ],
   "source": [
    "plt.plot(accuracy)\n",
    "plt.title(\"Accuracy vs Batch\")\n",
    "plt.xlabel(\"Batch\")\n",
    "plt.ylabel(\"Accuracy\")"
   ]
  },
  {
   "cell_type": "code",
   "execution_count": null,
   "metadata": {},
   "outputs": [],
   "source": []
  }
 ],
 "metadata": {
  "kernelspec": {
   "display_name": "Python 3",
   "language": "python",
   "name": "python3"
  },
  "language_info": {
   "codemirror_mode": {
    "name": "ipython",
    "version": 3
   },
   "file_extension": ".py",
   "mimetype": "text/x-python",
   "name": "python",
   "nbconvert_exporter": "python",
   "pygments_lexer": "ipython3",
   "version": "3.6.5"
  }
 },
 "nbformat": 4,
 "nbformat_minor": 2
}
