{
 "cells": [
  {
   "cell_type": "markdown",
   "metadata": {},
   "source": [
    "Imports"
   ]
  },
  {
   "cell_type": "code",
   "execution_count": 1,
   "metadata": {},
   "outputs": [],
   "source": [
    "import numpy as np\n",
    "import csv\n",
    "from PIL import Image\n",
    "import matplotlib.pyplot as plt\n",
    "from os import listdir\n",
    "from os.path import isfile, join\n",
    "import math"
   ]
  },
  {
   "cell_type": "code",
   "execution_count": 2,
   "metadata": {},
   "outputs": [],
   "source": [
    "w = 101\n",
    "h = 101"
   ]
  },
  {
   "cell_type": "markdown",
   "metadata": {},
   "source": [
    "Reading in Training Data"
   ]
  },
  {
   "cell_type": "code",
   "execution_count": 3,
   "metadata": {},
   "outputs": [],
   "source": [
    "import pickle\n",
    "data = pickle.load(open(\"training_separated.p\", 'rb'))\n",
    "X = data[0]\n",
    "y = data[1]"
   ]
  },
  {
   "cell_type": "code",
   "execution_count": 4,
   "metadata": {},
   "outputs": [],
   "source": [
    "# Train Test Split\n",
    "from sklearn.model_selection import train_test_split\n",
    "X_train, X_test, y_train, y_test = train_test_split(X, y, test_size=0.30)\n",
    "print(\"Training Shape\")\n",
    "print(X_train.shape)\n",
    "print(y_train.shape)\n",
    "\n",
    "print(\"Testing Shape\")\n",
    "print(X_test.shape)\n",
    "print(y_train.shape)"
   ]
  },
  {
   "cell_type": "code",
   "execution_count": 5,
   "metadata": {},
   "outputs": [],
   "source": [
    "class PictureHelper():\n",
    "    \n",
    "    def __init__(self):\n",
    "        self.i = 0\n",
    "\n",
    "        self.training_images = X_train\n",
    "        self.training_labels = y_train\n",
    "        \n",
    "        self.testing_images = X_test\n",
    "        self.testing_labels = y_test\n",
    "    \n",
    "    def getTesting(self, batch_size):\n",
    "        # shuffle data\n",
    "        p = np.random.permutation(len(self.testing_images))\n",
    "        self.testing_images = self.testing_images[p]\n",
    "        self.testing_labels = self.testing_labels[p]   \n",
    "        if (batch_size < self.testing_images.shape[0]):\n",
    "            x = self.testing_images[:batch_size]\n",
    "            y = self.testing_labels[:batch_size]\n",
    "        else:\n",
    "            x = self.testing_images\n",
    "            y = self.testing_labels\n",
    "        \n",
    "        return x, y\n",
    "        \n",
    "        \n",
    "    def next_batch(self, batch_size):\n",
    "        \n",
    "        if (self.i + batch_size >= self.training_images.shape[0]):\n",
    "            p = numpy.random.permutation(len(self.training_images))\n",
    "            self.training_images = self.training_images[p]\n",
    "            self.training_labels = self.training_labels[p]\n",
    "            \n",
    "        x = self.training_images[self.i:self.i+batch_size]\n",
    "        y = self.training_labels[self.i:self.i+batch_size]\n",
    "            \n",
    "        self.i = (self.i + batch_size) % len(self.training_images)\n",
    "        \n",
    "        return x, y"
   ]
  },
  {
   "cell_type": "code",
   "execution_count": 6,
   "metadata": {},
   "outputs": [
    {
     "name": "stdout",
     "output_type": "stream",
     "text": [
      "(10, 101, 101, 1)\n",
      "(10, 2)\n"
     ]
    }
   ],
   "source": [
    "ph = PictureHelper()\n",
    "x, y = ph.getTesting(10)\n",
    "print(x.shape)\n",
    "print(y.shape)"
   ]
  },
  {
   "cell_type": "markdown",
   "metadata": {},
   "source": [
    "## Creating the Model\n",
    "\n",
    "** Import tensorflow **"
   ]
  },
  {
   "cell_type": "code",
   "execution_count": 7,
   "metadata": {},
   "outputs": [],
   "source": [
    "import tensorflow as tf"
   ]
  },
  {
   "cell_type": "code",
   "execution_count": 8,
   "metadata": {},
   "outputs": [],
   "source": [
    "x = tf.placeholder(tf.float32,shape=[None,w,h,1])\n",
    "y_true = tf.placeholder(tf.float32,shape=[None,2])"
   ]
  },
  {
   "cell_type": "code",
   "execution_count": 9,
   "metadata": {},
   "outputs": [],
   "source": [
    "hold_prob = tf.placeholder(tf.float32)"
   ]
  },
  {
   "cell_type": "code",
   "execution_count": 10,
   "metadata": {},
   "outputs": [],
   "source": [
    "def init_weights(shape):\n",
    "    init_random_dist = tf.truncated_normal(shape, stddev=0.1)\n",
    "    return tf.Variable(init_random_dist)\n",
    "\n",
    "def init_bias(shape):\n",
    "    init_bias_vals = tf.constant(0.1, shape=shape)\n",
    "    return tf.Variable(init_bias_vals)\n",
    "\n",
    "def conv2d(x, W):\n",
    "    return tf.nn.conv2d(x, W, strides=[1, 1, 1, 1], padding='SAME')\n",
    "\n",
    "def max_pool_2by2(x):\n",
    "    return tf.nn.max_pool(x, ksize=[1, 2, 2, 1],\n",
    "                          strides=[1, 2, 2, 1], padding='SAME')\n",
    "\n",
    "def convolutional_layer(input_x, shape):\n",
    "    W = init_weights(shape)\n",
    "    b = init_bias([shape[3]])\n",
    "    return tf.nn.relu(conv2d(input_x, W) + b)\n",
    "\n",
    "def normal_full_layer(input_layer, size):\n",
    "    input_size = int(input_layer.get_shape()[1])\n",
    "    W = init_weights([input_size, size])\n",
    "    b = init_bias([size])\n",
    "    return tf.matmul(input_layer, W) + b"
   ]
  },
  {
   "cell_type": "markdown",
   "metadata": {},
   "source": [
    "# Creating Layers"
   ]
  },
  {
   "cell_type": "code",
   "execution_count": 13,
   "metadata": {},
   "outputs": [
    {
     "name": "stdout",
     "output_type": "stream",
     "text": [
      "WARNING:tensorflow:From <ipython-input-13-3ac77c58d88a>:34: softmax_cross_entropy_with_logits (from tensorflow.python.ops.nn_ops) is deprecated and will be removed in a future version.\n",
      "Instructions for updating:\n",
      "\n",
      "Future major versions of TensorFlow will allow gradients to flow\n",
      "into the labels input on backprop by default.\n",
      "\n",
      "See @{tf.nn.softmax_cross_entropy_with_logits_v2}.\n",
      "\n"
     ]
    }
   ],
   "source": [
    "convo_1 = tf.nn.relu(convolutional_layer(x,shape=[2,2,1,32]))\n",
    "convo_2 = tf.nn.relu(convolutional_layer(convo_1,shape=[2,2,32,16]))\n",
    "convo_2_pooling = max_pool_2by2(convo_2)\n",
    "\n",
    "convo_3 = tf.nn.relu(convolutional_layer(convo_2_pooling,shape=[2,2,16,64]))\n",
    "convo_4 = tf.nn.relu(convolutional_layer(convo_3,shape=[2,2,64,32]))\n",
    "convo_4_pooling = max_pool_2by2(convo_4)\n",
    "\n",
    "convo_5 = tf.nn.relu(convolutional_layer(convo_4_pooling,shape=[2,2,32,128]))\n",
    "convo_6 = tf.nn.relu(convolutional_layer(convo_5,shape=[2,2,128,128]))\n",
    "convo_7 = tf.nn.relu(convolutional_layer(convo_6,shape=[2,2,128,64]))\n",
    "convo_7_pooling = max_pool_2by2(convo_7)\n",
    "\n",
    "convo_8 =  tf.nn.relu(convolutional_layer(convo_7_pooling, shape=[2,2,64,256]))\n",
    "convo_9 =  tf.nn.relu(convolutional_layer(convo_8, shape=[2,2,256,256]))\n",
    "convo_10 =  tf.nn.relu(convolutional_layer(convo_9, shape=[2,2,256,128]))\n",
    "convo_10_pooling = max_pool_2by2(convo_10)\n",
    "\n",
    "new_w = math.ceil(w / 16)\n",
    "new_h = math.ceil(h / 16)\n",
    "\n",
    "num_features = 128\n",
    "\n",
    "convo_10_flat = tf.reshape(convo_10_pooling,[-1,new_h*new_w*num_features])\n",
    "\n",
    "full_layer_1 = tf.nn.relu(normal_full_layer(convo_10_flat,1024))\n",
    "\n",
    "full_layer_2 = tf.nn.relu(normal_full_layer(full_layer_1,1024))\n",
    "\n",
    "full_dropout = tf.nn.dropout(full_layer_2,keep_prob=hold_prob)\n",
    "\n",
    "y_pred = normal_full_layer(full_dropout,2)\n",
    "\n",
    "cross_entropy = tf.nn.softmax_cross_entropy_with_logits(labels=y_true,logits=y_pred)\n",
    "\n",
    "optimizer = tf.train.AdamOptimizer(learning_rate=0.001)\n",
    "train = optimizer.minimize(cross_entropy)\n",
    "\n",
    "init = tf.global_variables_initializer()"
   ]
  },
  {
   "cell_type": "markdown",
   "metadata": {},
   "source": [
    "## Graph Session\n",
    "\n",
    "** Perform the training and test print outs in a Tf session and run your model! **"
   ]
  },
  {
   "cell_type": "code",
   "execution_count": 14,
   "metadata": {},
   "outputs": [],
   "source": [
    "gpu_options = tf.GPUOptions(per_process_gpu_memory_fraction=0.90)"
   ]
  },
  {
   "cell_type": "code",
   "execution_count": 15,
   "metadata": {},
   "outputs": [
    {
     "data": {
      "text/plain": [
       "[name: \"/device:CPU:0\"\n",
       " device_type: \"CPU\"\n",
       " memory_limit: 268435456\n",
       " locality {\n",
       " }\n",
       " incarnation: 4390793688158558777, name: \"/device:GPU:0\"\n",
       " device_type: \"GPU\"\n",
       " memory_limit: 11280806708\n",
       " locality {\n",
       "   bus_id: 1\n",
       "   links {\n",
       "   }\n",
       " }\n",
       " incarnation: 9186125818250589551\n",
       " physical_device_desc: \"device: 0, name: Tesla K80, pci bus id: 0000:00:04.0, compute capability: 3.7\"]"
      ]
     },
     "execution_count": 15,
     "metadata": {},
     "output_type": "execute_result"
    }
   ],
   "source": [
    "from tensorflow.python.client import device_lib\n",
    "device_lib.list_local_devices()"
   ]
  },
  {
   "cell_type": "code",
   "execution_count": 16,
   "metadata": {},
   "outputs": [],
   "source": [
    "actual = []\n",
    "predicted = []"
   ]
  },
  {
   "cell_type": "code",
   "execution_count": null,
   "metadata": {
    "scrolled": true
   },
   "outputs": [
    {
     "name": "stdout",
     "output_type": "stream",
     "text": [
      "Currently on step 0\n",
      "Accuracy is:\n",
      "0.435\n",
      "Currently on step 10\n",
      "Accuracy is:\n",
      "0.61\n",
      "Currently on step 20\n",
      "Accuracy is:\n",
      "0.615\n",
      "Currently on step 30\n",
      "Accuracy is:\n",
      "0.625\n",
      "Currently on step 40\n",
      "Accuracy is:\n",
      "0.565\n",
      "Currently on step 50\n",
      "Accuracy is:\n",
      "0.585\n",
      "Currently on step 60\n",
      "Accuracy is:\n",
      "0.505\n",
      "Currently on step 70\n",
      "Accuracy is:\n",
      "0.56\n",
      "Currently on step 80\n",
      "Accuracy is:\n",
      "0.59\n",
      "Currently on step 90\n",
      "Accuracy is:\n",
      "0.545\n",
      "Currently on step 100\n",
      "Accuracy is:\n",
      "0.57\n",
      "Currently on step 110\n",
      "Accuracy is:\n",
      "0.58\n",
      "Currently on step 120\n",
      "Accuracy is:\n",
      "0.535\n",
      "Currently on step 130\n",
      "Accuracy is:\n",
      "0.545\n",
      "Currently on step 140\n",
      "Accuracy is:\n",
      "0.585\n",
      "Currently on step 150\n",
      "Accuracy is:\n",
      "0.545\n",
      "Currently on step 160\n",
      "Accuracy is:\n",
      "0.57\n",
      "Currently on step 170\n",
      "Accuracy is:\n",
      "0.575\n",
      "Currently on step 180\n",
      "Accuracy is:\n",
      "0.62\n",
      "Currently on step 190\n",
      "Accuracy is:\n",
      "0.595\n",
      "Currently on step 200\n",
      "Accuracy is:\n",
      "0.55\n",
      "Currently on step 210\n",
      "Accuracy is:\n",
      "0.515\n",
      "Currently on step 220\n",
      "Accuracy is:\n",
      "0.57\n",
      "Currently on step 230\n",
      "Accuracy is:\n",
      "0.525\n",
      "Currently on step 240\n",
      "Accuracy is:\n",
      "0.61\n",
      "Currently on step 250\n",
      "Accuracy is:\n",
      "0.525\n",
      "Currently on step 260\n",
      "Accuracy is:\n",
      "0.55\n",
      "Currently on step 270\n",
      "Accuracy is:\n",
      "0.525\n",
      "Currently on step 280\n",
      "Accuracy is:\n",
      "0.58\n",
      "Currently on step 290\n",
      "Accuracy is:\n",
      "0.505\n",
      "Currently on step 300\n",
      "Accuracy is:\n",
      "0.56\n",
      "Currently on step 310\n",
      "Accuracy is:\n",
      "0.595\n",
      "Currently on step 320\n",
      "Accuracy is:\n",
      "0.585\n",
      "Currently on step 330\n",
      "Accuracy is:\n",
      "0.6\n",
      "Currently on step 340\n",
      "Accuracy is:\n",
      "0.555\n",
      "Currently on step 350\n",
      "Accuracy is:\n",
      "0.595\n",
      "Currently on step 360\n",
      "Accuracy is:\n",
      "0.54\n",
      "Currently on step 370\n",
      "Accuracy is:\n",
      "0.59\n",
      "Currently on step 380\n",
      "Accuracy is:\n",
      "0.54\n",
      "Currently on step 390\n",
      "Accuracy is:\n",
      "0.605\n",
      "Currently on step 400\n",
      "Accuracy is:\n",
      "0.58\n",
      "Currently on step 410\n",
      "Accuracy is:\n",
      "0.605\n",
      "Currently on step 420\n",
      "Accuracy is:\n",
      "0.59\n",
      "Currently on step 430\n",
      "Accuracy is:\n",
      "0.62\n",
      "Currently on step 440\n",
      "Accuracy is:\n",
      "0.53\n",
      "Currently on step 450\n",
      "Accuracy is:\n",
      "0.58\n",
      "Currently on step 460\n",
      "Accuracy is:\n",
      "0.56\n",
      "Currently on step 470\n",
      "Accuracy is:\n",
      "0.59\n",
      "Currently on step 480\n",
      "Accuracy is:\n",
      "0.54\n",
      "Currently on step 490\n",
      "Accuracy is:\n",
      "0.585\n",
      "Currently on step 500\n",
      "Accuracy is:\n",
      "0.615\n",
      "Currently on step 510\n",
      "Accuracy is:\n",
      "0.6\n",
      "Currently on step 520\n",
      "Accuracy is:\n",
      "0.56\n",
      "Currently on step 530\n",
      "Accuracy is:\n",
      "0.545\n",
      "Currently on step 540\n",
      "Accuracy is:\n",
      "0.55\n",
      "Currently on step 550\n",
      "Accuracy is:\n",
      "0.645\n",
      "Currently on step 560\n",
      "Accuracy is:\n",
      "0.54\n",
      "Currently on step 570\n",
      "Accuracy is:\n",
      "0.525\n",
      "Currently on step 580\n",
      "Accuracy is:\n",
      "0.58\n",
      "Currently on step 590\n",
      "Accuracy is:\n",
      "0.58\n",
      "Currently on step 600\n",
      "Accuracy is:\n",
      "0.56\n",
      "Currently on step 610\n",
      "Accuracy is:\n",
      "0.57\n",
      "Currently on step 620\n",
      "Accuracy is:\n",
      "0.575\n",
      "Currently on step 630\n",
      "Accuracy is:\n",
      "0.575\n",
      "Currently on step 640\n",
      "Accuracy is:\n",
      "0.58\n",
      "Currently on step 650\n",
      "Accuracy is:\n",
      "0.58\n",
      "Currently on step 660\n",
      "Accuracy is:\n",
      "0.58\n",
      "Currently on step 670\n",
      "Accuracy is:\n",
      "0.59\n",
      "Currently on step 680\n",
      "Accuracy is:\n",
      "0.61\n",
      "Currently on step 690\n",
      "Accuracy is:\n",
      "0.525\n",
      "Currently on step 700\n",
      "Accuracy is:\n",
      "0.625\n",
      "Currently on step 710\n",
      "Accuracy is:\n",
      "0.57\n",
      "Currently on step 720\n",
      "Accuracy is:\n",
      "0.59\n",
      "Currently on step 730\n",
      "Accuracy is:\n",
      "0.545\n",
      "Currently on step 740\n",
      "Accuracy is:\n",
      "0.59\n",
      "Currently on step 750\n",
      "Accuracy is:\n",
      "0.53\n",
      "Currently on step 760\n",
      "Accuracy is:\n",
      "0.53\n",
      "Currently on step 770\n",
      "Accuracy is:\n",
      "0.545\n",
      "Currently on step 780\n",
      "Accuracy is:\n",
      "0.575\n",
      "Currently on step 790\n",
      "Accuracy is:\n",
      "0.51\n",
      "Currently on step 800\n",
      "Accuracy is:\n",
      "0.495\n",
      "Currently on step 810\n",
      "Accuracy is:\n",
      "0.545\n",
      "Currently on step 820\n",
      "Accuracy is:\n",
      "0.605\n",
      "Currently on step 830\n",
      "Accuracy is:\n",
      "0.59\n",
      "Currently on step 840\n",
      "Accuracy is:\n",
      "0.6\n",
      "Currently on step 850\n",
      "Accuracy is:\n",
      "0.55\n",
      "Currently on step 860\n",
      "Accuracy is:\n",
      "0.59\n",
      "Currently on step 870\n",
      "Accuracy is:\n",
      "0.575\n",
      "Currently on step 880\n",
      "Accuracy is:\n",
      "0.62\n",
      "Currently on step 890\n",
      "Accuracy is:\n",
      "0.53\n",
      "Currently on step 900\n",
      "Accuracy is:\n",
      "0.635\n",
      "Currently on step 910\n",
      "Accuracy is:\n",
      "0.575\n",
      "Currently on step 920\n",
      "Accuracy is:\n",
      "0.59\n",
      "Currently on step 930\n",
      "Accuracy is:\n",
      "0.585\n",
      "Currently on step 940\n",
      "Accuracy is:\n",
      "0.585\n",
      "Currently on step 950\n",
      "Accuracy is:\n",
      "0.59\n",
      "Currently on step 960\n",
      "Accuracy is:\n",
      "0.535\n",
      "Currently on step 970\n",
      "Accuracy is:\n",
      "0.515\n",
      "Currently on step 980\n",
      "Accuracy is:\n",
      "0.54\n",
      "Currently on step 990\n",
      "Accuracy is:\n",
      "0.605\n",
      "Currently on step 1000\n",
      "Accuracy is:\n",
      "0.595\n",
      "Currently on step 1010\n",
      "Accuracy is:\n",
      "0.605\n",
      "Currently on step 1020\n",
      "Accuracy is:\n",
      "0.505\n",
      "Currently on step 1030\n",
      "Accuracy is:\n",
      "0.57\n",
      "Currently on step 1040\n",
      "Accuracy is:\n",
      "0.59\n",
      "Currently on step 1050\n",
      "Accuracy is:\n",
      "0.595\n",
      "Currently on step 1060\n",
      "Accuracy is:\n",
      "0.575\n",
      "Currently on step 1070\n",
      "Accuracy is:\n",
      "0.525\n",
      "Currently on step 1080\n",
      "Accuracy is:\n"
     ]
    }
   ],
   "source": [
    "# config = tf.ConfigProto(gpu_options = gpu_options)\n",
    "with tf.Session(config=tf.ConfigProto(log_device_placement=True)) as sess:\n",
    "    sess.run(tf.global_variables_initializer())\n",
    "\n",
    "    for i in range(10000):\n",
    "        ph = PictureHelper()\n",
    "        batch = ph.next_batch(8)\n",
    "        sess.run(train, feed_dict={x: batch[0], y_true: batch[1], hold_prob: 1.0})\n",
    "        # PRINT OUT A MESSAGE EVERY 100 STEPS\n",
    "        if i%10 == 0:\n",
    "            print('Currently on step {}'.format(i))\n",
    "            print('Accuracy is:')\n",
    "            # Test the Model\n",
    "            x_test2, y_test2 = ph.getTesting(200)\n",
    "            \n",
    "            # metric for accuracy\n",
    "            matches = tf.equal(tf.argmax(y_pred, axis = 1), tf.argmax(y_true, axis = 1))\n",
    "            acc = tf.reduce_mean(tf.cast(matches,tf.float32))\n",
    "            \n",
    "            # generating the predictions\n",
    "            temp_acc = sess.run(acc,feed_dict={x:x_test2, y_true:y_test2, hold_prob:1.0})\n",
    "\n",
    "            print(temp_acc)\n",
    "            if (i%10==0):\n",
    "                predicted.append(sess.run(y_pred, feed_dict = {x:x_test2, y_true:y_test2, hold_prob:1.0}))\n",
    "                actual.append(y_test2)\n",
    "                data = [actual, predicted]\n",
    "                pickle.dump(data, open('results.p', 'wb'))"
   ]
  },
  {
   "cell_type": "markdown",
   "metadata": {},
   "source": [
    "# Analyzing Results"
   ]
  },
  {
   "cell_type": "code",
   "execution_count": 32,
   "metadata": {},
   "outputs": [],
   "source": [
    "data = pickle.load(open('results.p', 'rb'))\n",
    "actual = np.array(data[0])\n",
    "predicted = np.array(data[1])"
   ]
  },
  {
   "cell_type": "code",
   "execution_count": 33,
   "metadata": {},
   "outputs": [],
   "source": [
    "predicted[predicted<0.5] = 0\n",
    "predicted[predicted>=0.5] = 1"
   ]
  },
  {
   "cell_type": "code",
   "execution_count": 34,
   "metadata": {},
   "outputs": [
    {
     "name": "stdout",
     "output_type": "stream",
     "text": [
      "(341, 200, 2)\n",
      "(341, 200, 2)\n"
     ]
    }
   ],
   "source": [
    "print(actual.shape)\n",
    "print(predicted.shape)"
   ]
  },
  {
   "cell_type": "code",
   "execution_count": 35,
   "metadata": {
    "scrolled": true
   },
   "outputs": [
    {
     "name": "stdout",
     "output_type": "stream",
     "text": [
      "(2, 341, 200)\n",
      "(2, 341, 200)\n"
     ]
    }
   ],
   "source": [
    "actual = actual.transpose((2, 0, 1))\n",
    "print(actual.shape)\n",
    "predicted = predicted.transpose((2, 0, 1))\n",
    "print(predicted.shape)"
   ]
  },
  {
   "cell_type": "code",
   "execution_count": 36,
   "metadata": {},
   "outputs": [
    {
     "name": "stdout",
     "output_type": "stream",
     "text": [
      "(341, 200)\n",
      "200\n",
      "341\n"
     ]
    }
   ],
   "source": [
    "print(actual[0].shape)\n",
    "print(actual.shape[2])\n",
    "print(actual.shape[1])"
   ]
  },
  {
   "cell_type": "code",
   "execution_count": 37,
   "metadata": {},
   "outputs": [
    {
     "name": "stdout",
     "output_type": "stream",
     "text": [
      "(200, 341)\n",
      "(200, 341)\n"
     ]
    }
   ],
   "source": [
    "#actual = actual[0]\n",
    "actual = actual[0].reshape(actual.shape[2], actual.shape[1])\n",
    "predicted = predicted[0].reshape(predicted.shape[2], predicted.shape[1])\n",
    "print(actual.shape)\n",
    "print(predicted.shape)"
   ]
  },
  {
   "cell_type": "code",
   "execution_count": 38,
   "metadata": {},
   "outputs": [],
   "source": [
    "accuracy = []\n",
    "for i in range (actual.shape[0]):\n",
    "    accuracy.append((len(actual[i][actual[i] == predicted[i]])) / actual.shape[1])"
   ]
  },
  {
   "cell_type": "code",
   "execution_count": 39,
   "metadata": {},
   "outputs": [
    {
     "data": {
      "text/plain": [
       "Text(0,0.5,'Accuracy')"
      ]
     },
     "execution_count": 39,
     "metadata": {},
     "output_type": "execute_result"
    },
    {
     "data": {
      "image/png": "[encoded data removed]",
      "text/plain": [
       "<Figure size 432x288 with 1 Axes>"
      ]
     },
     "metadata": {},
     "output_type": "display_data"
    }
   ],
   "source": [
    "plt.plot(accuracy)\n",
    "plt.title(\"Accuracy vs Batch\")\n",
    "plt.xlabel(\"Batch\")\n",
    "plt.ylabel(\"Accuracy\")"
   ]
  },
  {
   "cell_type": "code",
   "execution_count": null,
   "metadata": {},
   "outputs": [],
   "source": []
  }
 ],
 "metadata": {
  "kernelspec": {
   "display_name": "Python 3",
   "language": "python",
   "name": "python3"
  },
  "language_info": {
   "codemirror_mode": {
    "name": "ipython",
    "version": 3
   },
   "file_extension": ".py",
   "mimetype": "text/x-python",
   "name": "python",
   "nbconvert_exporter": "python",
   "pygments_lexer": "ipython3",
   "version": "3.6.5"
  }
 },
 "nbformat": 4,
 "nbformat_minor": 2
}
