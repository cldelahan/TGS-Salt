{
 "cells": [
  {
   "cell_type": "code",
   "execution_count": 52,
   "metadata": {},
   "outputs": [],
   "source": [
    "import numpy as np\n",
    "import pickle\n",
    "import csv\n",
    "from PIL import Image\n",
    "from PIL import ImageOps\n",
    "import matplotlib.pyplot as plt\n",
    "from os import listdir\n",
    "from os.path import isfile, join\n",
    "import math"
   ]
  },
  {
   "cell_type": "markdown",
   "metadata": {},
   "source": [
    "Declaring Directories"
   ]
  },
  {
   "cell_type": "code",
   "execution_count": 3,
   "metadata": {},
   "outputs": [],
   "source": [
    "train_im_dir = \"../../data/train/images/\"\n",
    "train_data_dir = \"../../data/train/train.csv\"\n",
    "mask_path = \"../../data/train/masks/\"\n",
    "w = 101\n",
    "h = 101\n",
    "files = [f for f in listdir(train_im_dir) if isfile(join(train_im_dir, f))]"
   ]
  },
  {
   "cell_type": "markdown",
   "metadata": {},
   "source": [
    "Reading in images in X"
   ]
  },
  {
   "cell_type": "code",
   "execution_count": 49,
   "metadata": {},
   "outputs": [
    {
     "name": "stdout",
     "output_type": "stream",
     "text": [
      "[]\n",
      "0 / 8000\n",
      "100 / 8000\n",
      "200 / 8000\n",
      "300 / 8000\n",
      "400 / 8000\n",
      "500 / 8000\n",
      "600 / 8000\n",
      "700 / 8000\n",
      "800 / 8000\n",
      "900 / 8000\n",
      "1000 / 8000\n",
      "1100 / 8000\n",
      "1200 / 8000\n",
      "1300 / 8000\n",
      "1400 / 8000\n",
      "1500 / 8000\n",
      "1600 / 8000\n",
      "1700 / 8000\n",
      "1800 / 8000\n",
      "1900 / 8000\n",
      "2000 / 8000\n",
      "2100 / 8000\n",
      "2200 / 8000\n",
      "2300 / 8000\n",
      "2400 / 8000\n",
      "2500 / 8000\n",
      "2600 / 8000\n",
      "2700 / 8000\n",
      "2800 / 8000\n",
      "2900 / 8000\n",
      "3000 / 8000\n",
      "3100 / 8000\n",
      "3200 / 8000\n",
      "3300 / 8000\n",
      "3400 / 8000\n",
      "3500 / 8000\n",
      "3600 / 8000\n",
      "3700 / 8000\n",
      "3800 / 8000\n",
      "3900 / 8000\n",
      "(6358, 101, 101, 1)\n"
     ]
    },
    {
     "ename": "NameError",
     "evalue": "name 'y' is not defined",
     "output_type": "error",
     "traceback": [
      "\u001b[1;31m---------------------------------------------------------------------------\u001b[0m",
      "\u001b[1;31mNameError\u001b[0m                                 Traceback (most recent call last)",
      "\u001b[1;32m<ipython-input-49-065c3e4053fd>\u001b[0m in \u001b[0;36m<module>\u001b[1;34m()\u001b[0m\n\u001b[0;32m     39\u001b[0m         \u001b[0mprint\u001b[0m \u001b[1;33m(\u001b[0m\u001b[0mstr\u001b[0m\u001b[1;33m(\u001b[0m\u001b[0mi\u001b[0m\u001b[1;33m)\u001b[0m \u001b[1;33m+\u001b[0m \u001b[1;34m\" / \"\u001b[0m \u001b[1;33m+\u001b[0m \u001b[0mstr\u001b[0m\u001b[1;33m(\u001b[0m\u001b[0mlen\u001b[0m\u001b[1;33m(\u001b[0m\u001b[0mfiles\u001b[0m\u001b[1;33m)\u001b[0m\u001b[1;33m*\u001b[0m\u001b[1;36m2\u001b[0m\u001b[1;33m)\u001b[0m\u001b[1;33m)\u001b[0m\u001b[1;33m\u001b[0m\u001b[0m\n\u001b[0;32m     40\u001b[0m \u001b[0mprint\u001b[0m\u001b[1;33m(\u001b[0m\u001b[0mX\u001b[0m\u001b[1;33m.\u001b[0m\u001b[0mshape\u001b[0m\u001b[1;33m)\u001b[0m\u001b[1;33m\u001b[0m\u001b[0m\n\u001b[1;32m---> 41\u001b[1;33m \u001b[0mprint\u001b[0m\u001b[1;33m(\u001b[0m\u001b[0my\u001b[0m\u001b[1;33m.\u001b[0m\u001b[0mshape\u001b[0m\u001b[1;33m)\u001b[0m\u001b[1;33m\u001b[0m\u001b[0m\n\u001b[0m",
      "\u001b[1;31mNameError\u001b[0m: name 'y' is not defined"
     ]
    }
   ],
   "source": [
    "# list of all pictures\n",
    "X = np.ndarray(shape = (0, 101, 101, 1))\n",
    "one_hot = np.zeros(shape = (0, 2))\n",
    "print(one_hot)\n",
    "\n",
    "# looping through all pictures\n",
    "for i in range (len (files)):\n",
    "    # open image and mask\n",
    "    raw_im = Image.open(train_im_dir+files[i])\n",
    "    mask = Image.open(mask_path+files[i])\n",
    "                      \n",
    "    # getting not_salt image\n",
    "    not_salt = raw_im.copy()\n",
    "    not_salt.paste(mask, (0,0), mask.convert('L'))\n",
    "    \n",
    "    # inverting mask\n",
    "    invert_mask = ImageOps.invert(mask.convert(\"RGB\"))\n",
    "    \n",
    "    # getting salt\n",
    "    salt = raw_im.copy()\n",
    "    salt.paste(invert_mask, (0, 0), invert_mask.convert('L'))\n",
    "                      \n",
    "\n",
    "    if (len(salt.getcolors()) > 1):   \n",
    "        salt = salt.convert('L')\n",
    "        pixels = np.array(list(salt.getdata()))\n",
    "        pixels = pixels.reshape((1, 101, 101, 1))\n",
    "        X = np.concatenate((X, pixels), axis = 0)\n",
    "        one_hot = np.concatenate((one_hot, np.array([[1, 0]])), axis = 0)\n",
    "    \n",
    "    if (len(not_salt.getcolors()) > 1):\n",
    "        not_salt = not_salt.convert('L')\n",
    "        pixels = np.array(list(not_salt.getdata()))\n",
    "        pixels = pixels.reshape((1, 101, 101, 1))\n",
    "        X = np.concatenate((X, pixels), axis = 0)\n",
    "        one_hot = np.concatenate((one_hot, np.array([[0, 1]])), axis = 0)\n",
    "                    \n",
    "    if (i%100 == 0):\n",
    "        print (str(i) + \" / \" + str(len(files)*2))\n",
    "print(X.shape)\n",
    "print(y.shape)"
   ]
  },
  {
   "cell_type": "code",
   "execution_count": 50,
   "metadata": {},
   "outputs": [],
   "source": [
    "data = [X, one_hot]\n",
    "pickle.dump(data, open(\"training_separated.p\", 'wb') )"
   ]
  },
  {
   "cell_type": "code",
   "execution_count": 57,
   "metadata": {},
   "outputs": [
    {
     "data": {
      "text/plain": [
       "<matplotlib.image.AxesImage at 0x15a35dc8080>"
      ]
     },
     "execution_count": 57,
     "metadata": {},
     "output_type": "execute_result"
    },
    {
     "data": {
      "image/png": "[encoded data removed]",
      "text/plain": [
       "<matplotlib.figure.Figure at 0x15a35d47710>"
      ]
     },
     "metadata": {},
     "output_type": "display_data"
    }
   ],
   "source": [
    "plt.imshow(X[3].reshape(101, 101), cmap = \"gray\")"
   ]
  },
  {
   "cell_type": "code",
   "execution_count": null,
   "metadata": {},
   "outputs": [],
   "source": []
  }
 ],
 "metadata": {
  "kernelspec": {
   "display_name": "Python 3",
   "language": "python",
   "name": "python3"
  },
  "language_info": {
   "codemirror_mode": {
    "name": "ipython",
    "version": 3
   },
   "file_extension": ".py",
   "mimetype": "text/x-python",
   "name": "python",
   "nbconvert_exporter": "python",
   "pygments_lexer": "ipython3",
   "version": "3.6.2"
  }
 },
 "nbformat": 4,
 "nbformat_minor": 2
}
