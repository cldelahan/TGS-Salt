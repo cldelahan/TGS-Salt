{
 "cells": [
  {
   "cell_type": "markdown",
   "metadata": {},
   "source": [
    "# Visualizing the data"
   ]
  },
  {
   "cell_type": "markdown",
   "metadata": {},
   "source": [
    "Importing Packages"
   ]
  },
  {
   "cell_type": "code",
   "execution_count": 29,
   "metadata": {},
   "outputs": [],
   "source": [
    "from PIL import Image\n",
    "import matplotlib.pyplot as plt\n",
    "import numpy as np\n",
    "import os\n",
    "import fnmatch\n",
    "import random"
   ]
  },
  {
   "cell_type": "code",
   "execution_count": 35,
   "metadata": {},
   "outputs": [],
   "source": [
    "mask_path = \"../../data/train/masks/\""
   ]
  },
  {
   "cell_type": "markdown",
   "metadata": {},
   "source": [
    "Walking directory and storing pixels"
   ]
  },
  {
   "cell_type": "code",
   "execution_count": 24,
   "metadata": {},
   "outputs": [],
   "source": [
    "nWhitePixels = []\n",
    "ids = []\n",
    "for root, dir, files in os.walk(mask_path):\n",
    "        for items in fnmatch.filter(files, \"*\"):\n",
    "                im = Image.open(path+items)\n",
    "                nWhite = 0\n",
    "                for pixel in im.getdata():\n",
    "                    if (pixel != 0):\n",
    "                        nWhite += 1\n",
    "                nWhitePixels.append(nWhite)\n",
    "                ids.append(items)\n",
    "nWhitePixels = np.array(nWhitePixels)\n",
    "ids = np.array(ids)"
   ]
  },
  {
   "cell_type": "code",
   "execution_count": 10,
   "metadata": {},
   "outputs": [],
   "source": [
    "nWhitePer = nWhitePixels/(101*101)"
   ]
  },
  {
   "cell_type": "code",
   "execution_count": 11,
   "metadata": {},
   "outputs": [
    {
     "name": "stdout",
     "output_type": "stream",
     "text": [
      "[ 0.          0.03293795  0.         ...,  0.          0.08685423\n",
      "  0.70453877]\n"
     ]
    }
   ],
   "source": [
    "print(nWhitePer)"
   ]
  },
  {
   "cell_type": "code",
   "execution_count": 23,
   "metadata": {},
   "outputs": [
    {
     "name": "stdout",
     "output_type": "stream",
     "text": [
      "Average Percent of Salted Pixels\n",
      "0.24796586119\n"
     ]
    },
    {
     "data": {
      "text/plain": [
       "(array([ 5.34302377,  0.74257279,  0.5600549 ,  0.46254534,  0.56505539,\n",
       "         0.51255025,  0.43504265,  0.37003627,  0.39753897,  0.61256005]),\n",
       " array([ 0.        ,  0.0999902 ,  0.19998039,  0.29997059,  0.39996079,\n",
       "         0.49995099,  0.59994118,  0.69993138,  0.79992158,  0.89991177,\n",
       "         0.99990197]),\n",
       " <a list of 10 Patch objects>)"
      ]
     },
     "execution_count": 23,
     "metadata": {},
     "output_type": "execute_result"
    },
    {
     "data": {
      "image/png": "[encoded data removed]",
      "text/plain": [
       "<matplotlib.figure.Figure at 0x21d48abc208>"
      ]
     },
     "metadata": {},
     "output_type": "display_data"
    }
   ],
   "source": [
    "print (\"Average Percent of Salted Pixels\")\n",
    "print (np.mean(nWhitePer))\n",
    "\n",
    "plt.title(\"Distribution of Pixel Percents\")\n",
    "plt.xlabel(\"Salt Percent in Photo\")\n",
    "plt.ylabel(\"Frequency (10^-1 percent)\")\n",
    "plt.hist(nWhitePer, bins = 10, density = True)"
   ]
  },
  {
   "cell_type": "code",
   "execution_count": 26,
   "metadata": {},
   "outputs": [],
   "source": [
    "images_path = \"../../data/train/images/\""
   ]
  },
  {
   "cell_type": "markdown",
   "metadata": {},
   "source": [
    "Seeing Salt"
   ]
  },
  {
   "cell_type": "code",
   "execution_count": 44,
   "metadata": {},
   "outputs": [],
   "source": [
    "nExamples = 1\n",
    "for i in range (nExamples):\n",
    "    index = random.randrange(0, ids.size)\n",
    "    im = Image.open(images_path+ids[index])\n",
    "    mask = Image.open(mask_path+ids[index])\n",
    "    im.show()\n",
    "    mask.show()\n",
    "    im.paste(im, (0,0), mask.convert('L'))\n",
    "    im.show()\n"
   ]
  },
  {
   "cell_type": "code",
   "execution_count": null,
   "metadata": {},
   "outputs": [],
   "source": [
    "images = []\n",
    "for root, dir, files in os.walk(images_path):\n",
    "        for items in fnmatch.filter(files, \"*\"):\n",
    "                im = Image.open(path+items)\n",
    "                nWhite = 0\n",
    "                for pixel in im.getdata():\n",
    "                    if (pixel != 0):\n",
    "                        nWhite += 1\n",
    "                nWhitePixels.append(nWhite)\n",
    "                ids.append(items)\n",
    "nWhitePixels = np.array(nWhitePixels)\n",
    "ids = np.array(ids)"
   ]
  }
 ],
 "metadata": {
  "kernelspec": {
   "display_name": "Python 3",
   "language": "python",
   "name": "python3"
  },
  "language_info": {
   "codemirror_mode": {
    "name": "ipython",
    "version": 3
   },
   "file_extension": ".py",
   "mimetype": "text/x-python",
   "name": "python",
   "nbconvert_exporter": "python",
   "pygments_lexer": "ipython3",
   "version": "3.6.2"
  }
 },
 "nbformat": 4,
 "nbformat_minor": 2
}
